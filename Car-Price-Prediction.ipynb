{
 "cells": [
  {
   "cell_type": "markdown",
   "id": "744ffc5d-89ff-4d43-b15d-5de430b149e8",
   "metadata": {},
   "source": [
    "## Project Description\n",
    "Suppose that we have a website where people can sell and buy used cars. When posting an ad on our\n",
    "website, sellers often struggle to come up with a meaningful price. We want to help\n",
    "our users with automatic price recommendations. We ask the sellers to specify the\n",
    "model, make, year, mileage, and other important characteristics of a car, and based on\n",
    "that information, we want to suggest the best price.\n",
    "One of the product managers in the company accidentally came across an open dataset with car prices and asked us to have a look at it. We checked the data and saw\n",
    "that it contained all the important features as well as the recommended price — exactly what we needed for our use case. Thus, we decided to use this dataset for\n",
    "\n",
    "## Goal \n",
    "Is to build a Linear Regression model to predict the price of a car using MSRP column as the target variable.\n",
    "\n",
    "## Data Description\n",
    "- make: make of a car (BMW, Toyota, and so on)\n",
    "- model: model of a car\n",
    "- year: year when the car was manufactured\n",
    "- engine_fuel_type: type of fuel the engine needs (diesel, electric, and so on)\n",
    "- engine_hp: horsepower of the engine\n",
    "- engine_cylinders: number of cylinders in the engine\n",
    "- transmission_type: type of transmission (automatic or manual)\n",
    "- driven_wheels: front, rear, all\n",
    "- number_of_doors: number of doors a car has\n",
    "- market_category: luxury, crossover, and so on\n",
    "- vehicle_size: compact, midsize, or large\n",
    "- vehicle_style: sedan or convertible\n",
    "- highway_mpg: miles per gallon (mpg) on the highway\n",
    "- city_mpg: miles per gallon in the city\n",
    "- popularity: number of times the car was mentioned in a Twitter stream\n",
    "- msrp: manufacturer’s suggested retail price"
   ]
  },
  {
   "cell_type": "code",
   "execution_count": null,
   "id": "366e22db-dbed-4d10-98fb-40059189656e",
   "metadata": {},
   "outputs": [],
   "source": []
  }
 ],
 "metadata": {
  "kernelspec": {
   "display_name": "Python 3 (ipykernel)",
   "language": "python",
   "name": "python3"
  },
  "language_info": {
   "codemirror_mode": {
    "name": "ipython",
    "version": 3
   },
   "file_extension": ".py",
   "mimetype": "text/x-python",
   "name": "python",
   "nbconvert_exporter": "python",
   "pygments_lexer": "ipython3",
   "version": "3.11.3"
  }
 },
 "nbformat": 4,
 "nbformat_minor": 5
}
